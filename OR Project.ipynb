{
 "cells": [
  {
   "cell_type": "code",
   "execution_count": 9,
   "id": "3637cc05",
   "metadata": {},
   "outputs": [
    {
     "name": "stdout",
     "output_type": "stream",
     "text": [
      "Requirement already satisfied: ortools in /Users/jningya/opt/anaconda3/lib/python3.9/site-packages (9.9.3963)\n",
      "Requirement already satisfied: immutabledict>=3.0.0 in /Users/jningya/opt/anaconda3/lib/python3.9/site-packages (from ortools) (4.2.0)\n",
      "Requirement already satisfied: numpy>=1.13.3 in /Users/jningya/opt/anaconda3/lib/python3.9/site-packages (from ortools) (1.26.4)\n",
      "Requirement already satisfied: protobuf>=4.25.3 in /Users/jningya/opt/anaconda3/lib/python3.9/site-packages (from ortools) (5.26.1)\n",
      "Requirement already satisfied: absl-py>=2.0.0 in /Users/jningya/opt/anaconda3/lib/python3.9/site-packages (from ortools) (2.1.0)\n",
      "Requirement already satisfied: pandas>=2.0.0 in /Users/jningya/opt/anaconda3/lib/python3.9/site-packages (from ortools) (2.2.1)\n",
      "Requirement already satisfied: tzdata>=2022.7 in /Users/jningya/opt/anaconda3/lib/python3.9/site-packages (from pandas>=2.0.0->ortools) (2024.1)\n",
      "Requirement already satisfied: python-dateutil>=2.8.2 in /Users/jningya/opt/anaconda3/lib/python3.9/site-packages (from pandas>=2.0.0->ortools) (2.8.2)\n",
      "Requirement already satisfied: pytz>=2020.1 in /Users/jningya/opt/anaconda3/lib/python3.9/site-packages (from pandas>=2.0.0->ortools) (2021.3)\n",
      "Requirement already satisfied: six>=1.5 in /Users/jningya/opt/anaconda3/lib/python3.9/site-packages (from python-dateutil>=2.8.2->pandas>=2.0.0->ortools) (1.16.0)\n"
     ]
    }
   ],
   "source": [
    "!pip install ortools\n",
    "from ortools.sat.python import cp_model"
   ]
  },
  {
   "cell_type": "code",
   "execution_count": 8,
   "id": "d67c8892",
   "metadata": {},
   "outputs": [
    {
     "ename": "TypeError",
     "evalue": "__init__() missing 3 required positional arguments: 'end', 'is_present_index', and 'name'",
     "output_type": "error",
     "traceback": [
      "\u001b[0;31m---------------------------------------------------------------------------\u001b[0m",
      "\u001b[0;31mTypeError\u001b[0m                                 Traceback (most recent call last)",
      "\u001b[0;32m/var/folders/9m/2t_pclw11nb_qlgttjfsq19w0000gn/T/ipykernel_85241/3744720793.py\u001b[0m in \u001b[0;36m<module>\u001b[0;34m\u001b[0m\n\u001b[1;32m     14\u001b[0m \u001b[0;31m# 添加约束条件\u001b[0m\u001b[0;34m\u001b[0m\u001b[0;34m\u001b[0m\u001b[0m\n\u001b[1;32m     15\u001b[0m \u001b[0;31m# 会议A和会议B不能同时进行\u001b[0m\u001b[0;34m\u001b[0m\u001b[0;34m\u001b[0m\u001b[0m\n\u001b[0;32m---> 16\u001b[0;31m model.AddNoOverlap([cp_model.IntervalVar(start_time_a, duration_a, 'a'),\n\u001b[0m\u001b[1;32m     17\u001b[0m                     cp_model.IntervalVar(start_time_b, duration_b, 'b')])\n\u001b[1;32m     18\u001b[0m \u001b[0;34m\u001b[0m\u001b[0m\n",
      "\u001b[0;31mTypeError\u001b[0m: __init__() missing 3 required positional arguments: 'end', 'is_present_index', and 'name'"
     ]
    }
   ],
   "source": [
    "# 创建模型\n",
    "model = cp_model.CpModel()\n",
    "\n",
    "# 定义变量，每个会议的开始时间（0到7代表一天中的8个小时）\n",
    "start_time_a = model.NewIntVar(0, 7, 'start_time_a')\n",
    "start_time_b = model.NewIntVar(0, 7, 'start_time_b')\n",
    "start_time_c = model.NewIntVar(0, 7, 'start_time_c')\n",
    "\n",
    "# 会议持续时间（以小时为单位）\n",
    "duration_a = 2\n",
    "duration_b = 1\n",
    "duration_c = 1\n",
    "\n",
    "# 添加约束条件\n",
    "# 会议A和会议B不能同时进行\n",
    "model.AddNoOverlap([cp_model.IntervalVar(start_time_a, duration_a, 'a'),\n",
    "                    cp_model.IntervalVar(start_time_b, duration_b, 'b')])\n",
    "\n",
    "# 会议C需要在会议A之后进行\n",
    "model.Add(start_time_c >= start_time_a + duration_a)\n",
    "\n",
    "# 创建求解器并求解模型\n",
    "solver = cp_model.CpSolver()\n",
    "status = solver.Solve(model)\n",
    "\n",
    "# 检查是否有解\n",
    "if status == cp_model.OPTIMAL or status == cp_model.FEASIBLE:\n",
    "    print(f'会议A的开始时间: {solver.Value(start_time_a)}')\n",
    "    print(f'会议B的开始时间: {solver.Value(start_time_b)}')\n",
    "    print(f'会议C的开始时间: {solver.Value(start_time_c)}')\n",
    "else:\n",
    "    print('无法找到满足所有约束的解决方案。')"
   ]
  },
  {
   "cell_type": "code",
   "execution_count": null,
   "id": "fa6c6566",
   "metadata": {},
   "outputs": [],
   "source": []
  }
 ],
 "metadata": {
  "kernelspec": {
   "display_name": "Python 3 (ipykernel)",
   "language": "python",
   "name": "python3"
  },
  "language_info": {
   "codemirror_mode": {
    "name": "ipython",
    "version": 3
   },
   "file_extension": ".py",
   "mimetype": "text/x-python",
   "name": "python",
   "nbconvert_exporter": "python",
   "pygments_lexer": "ipython3",
   "version": "3.9.7"
  }
 },
 "nbformat": 4,
 "nbformat_minor": 5
}
